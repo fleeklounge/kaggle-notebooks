{
 "cells": [
  {
   "cell_type": "markdown",
   "metadata": {},
   "source": [
    "## 영국 감가상각율\n",
    "영국 감가상각 시계열 데이터 (월간: 1993 - 2023)"
   ]
  },
  {
   "cell_type": "code",
   "execution_count": 1,
   "metadata": {},
   "outputs": [],
   "source": [
    "import numpy as np\n",
    "import matplotlib.pyplot as plt\n",
    "import matplotlib as mpl\n",
    "import seaborn as sns\n",
    "import pandas as pd\n",
    "sns.set_style('white')\n",
    "from matplotlib.ticker import FuncFormatter\n",
    "from scipy.signal import savgol_filter\n"
   ]
  },
  {
   "cell_type": "code",
   "execution_count": 2,
   "metadata": {},
   "outputs": [],
   "source": [
    "from plotly.offline import init_notebook_mode, iplot, plot"
   ]
  },
  {
   "cell_type": "code",
   "execution_count": 3,
   "metadata": {},
   "outputs": [
    {
     "data": {
      "text/html": [
       "        <script type=\"text/javascript\">\n",
       "        window.PlotlyConfig = {MathJaxConfig: 'local'};\n",
       "        if (window.MathJax && window.MathJax.Hub && window.MathJax.Hub.Config) {window.MathJax.Hub.Config({SVG: {font: \"STIX-Web\"}});}\n",
       "        if (typeof require !== 'undefined') {\n",
       "        require.undef(\"plotly\");\n",
       "        requirejs.config({\n",
       "            paths: {\n",
       "                'plotly': ['https://cdn.plot.ly/plotly-2.29.1.min']\n",
       "            }\n",
       "        });\n",
       "        require(['plotly'], function(Plotly) {\n",
       "            window._Plotly = Plotly;\n",
       "        });\n",
       "        }\n",
       "        </script>\n",
       "        "
      ]
     },
     "metadata": {},
     "output_type": "display_data"
    },
    {
     "data": {
      "image/png": "[encoded data removed]",
      "text/plain": [
       "<Figure size 500x100 with 1 Axes>"
      ]
     },
     "metadata": {},
     "output_type": "display_data"
    }
   ],
   "source": [
    "import plotly as py\n",
    "init_notebook_mode(connected=True)\n",
    "import plotly.graph_objs as go\n",
    "\n",
    "### Define the colour scheme\n",
    "c1 = \"#173f5f\"\n",
    "c2 = \"#20639b\"\n",
    "c3 = \"#3caea3\"\n",
    "c4 = \"#f6d55c\"\n",
    "c5 = \"#ed553b\"\n",
    "\n",
    "custom_palette = [c1, c2, c3, c4, c5]\n",
    "sns.palplot(sns.color_palette(custom_palette))"
   ]
  },
  {
   "cell_type": "code",
   "execution_count": 4,
   "metadata": {},
   "outputs": [],
   "source": [
    "df = pd.read_csv('/home/leejieun/workspace/kaggle-notebooks/datasets/liamhealy/uk-write-off-timeseries-data/UK Write-Off Data.csv')\n",
    "df['Date'] = pd.to_datetime(df['Date'], format='%d/%m/%Y')\n",
    "\n",
    "df['secured_lending'] = df['RPQTFHD'] / df['RPQB73D']\n",
    "df['credit_cards'] = df['RPQTFHE'] / df['RPQB74D']\n",
    "df['other_unsecured_lending'] = df['RPQTFHF'] / df['RPQB75D']"
   ]
  },
  {
   "cell_type": "code",
   "execution_count": 5,
   "metadata": {},
   "outputs": [],
   "source": [
    "df = df.drop(['RPQTFHD','RPQB73D','RPQTFHE','RPQB74D','RPQTFHF','RPQB75D','RPQTFHG'], axis=1)"
   ]
  },
  {
   "cell_type": "code",
   "execution_count": 6,
   "metadata": {},
   "outputs": [
    {
     "data": {
      "text/html": [
       "<div>\n",
       "<style scoped>\n",
       "    .dataframe tbody tr th:only-of-type {\n",
       "        vertical-align: middle;\n",
       "    }\n",
       "\n",
       "    .dataframe tbody tr th {\n",
       "        vertical-align: top;\n",
       "    }\n",
       "\n",
       "    .dataframe thead th {\n",
       "        text-align: right;\n",
       "    }\n",
       "</style>\n",
       "<table border=\"1\" class=\"dataframe\">\n",
       "  <thead>\n",
       "    <tr style=\"text-align: right;\">\n",
       "      <th></th>\n",
       "      <th>Date</th>\n",
       "      <th>secured_lending</th>\n",
       "      <th>credit_cards</th>\n",
       "      <th>other_unsecured_lending</th>\n",
       "    </tr>\n",
       "  </thead>\n",
       "  <tbody>\n",
       "    <tr>\n",
       "      <th>0</th>\n",
       "      <td>2023-09-30</td>\n",
       "      <td>0.000006</td>\n",
       "      <td>0.005361</td>\n",
       "      <td>0.003271</td>\n",
       "    </tr>\n",
       "    <tr>\n",
       "      <th>1</th>\n",
       "      <td>2023-06-30</td>\n",
       "      <td>0.000009</td>\n",
       "      <td>0.005876</td>\n",
       "      <td>0.003140</td>\n",
       "    </tr>\n",
       "    <tr>\n",
       "      <th>2</th>\n",
       "      <td>2023-03-31</td>\n",
       "      <td>0.000009</td>\n",
       "      <td>0.005904</td>\n",
       "      <td>0.002960</td>\n",
       "    </tr>\n",
       "    <tr>\n",
       "      <th>3</th>\n",
       "      <td>2022-12-31</td>\n",
       "      <td>-0.000003</td>\n",
       "      <td>0.007824</td>\n",
       "      <td>0.007004</td>\n",
       "    </tr>\n",
       "    <tr>\n",
       "      <th>4</th>\n",
       "      <td>2022-09-30</td>\n",
       "      <td>0.000011</td>\n",
       "      <td>0.006139</td>\n",
       "      <td>0.003854</td>\n",
       "    </tr>\n",
       "    <tr>\n",
       "      <th>...</th>\n",
       "      <td>...</td>\n",
       "      <td>...</td>\n",
       "      <td>...</td>\n",
       "      <td>...</td>\n",
       "    </tr>\n",
       "    <tr>\n",
       "      <th>118</th>\n",
       "      <td>1994-03-31</td>\n",
       "      <td>0.000885</td>\n",
       "      <td>0.004640</td>\n",
       "      <td>0.007221</td>\n",
       "    </tr>\n",
       "    <tr>\n",
       "      <th>119</th>\n",
       "      <td>1993-12-31</td>\n",
       "      <td>0.000694</td>\n",
       "      <td>0.004300</td>\n",
       "      <td>0.009712</td>\n",
       "    </tr>\n",
       "    <tr>\n",
       "      <th>120</th>\n",
       "      <td>1993-09-30</td>\n",
       "      <td>0.000806</td>\n",
       "      <td>0.006223</td>\n",
       "      <td>0.005989</td>\n",
       "    </tr>\n",
       "    <tr>\n",
       "      <th>121</th>\n",
       "      <td>1993-06-30</td>\n",
       "      <td>0.000721</td>\n",
       "      <td>0.016719</td>\n",
       "      <td>0.005591</td>\n",
       "    </tr>\n",
       "    <tr>\n",
       "      <th>122</th>\n",
       "      <td>1993-03-31</td>\n",
       "      <td>0.000465</td>\n",
       "      <td>0.001692</td>\n",
       "      <td>0.008323</td>\n",
       "    </tr>\n",
       "  </tbody>\n",
       "</table>\n",
       "<p>123 rows × 4 columns</p>\n",
       "</div>"
      ],
      "text/plain": [
       "          Date  secured_lending  credit_cards  other_unsecured_lending\n",
       "0   2023-09-30         0.000006      0.005361                 0.003271\n",
       "1   2023-06-30         0.000009      0.005876                 0.003140\n",
       "2   2023-03-31         0.000009      0.005904                 0.002960\n",
       "3   2022-12-31        -0.000003      0.007824                 0.007004\n",
       "4   2022-09-30         0.000011      0.006139                 0.003854\n",
       "..         ...              ...           ...                      ...\n",
       "118 1994-03-31         0.000885      0.004640                 0.007221\n",
       "119 1993-12-31         0.000694      0.004300                 0.009712\n",
       "120 1993-09-30         0.000806      0.006223                 0.005989\n",
       "121 1993-06-30         0.000721      0.016719                 0.005591\n",
       "122 1993-03-31         0.000465      0.001692                 0.008323\n",
       "\n",
       "[123 rows x 4 columns]"
      ]
     },
     "execution_count": 6,
     "metadata": {},
     "output_type": "execute_result"
    }
   ],
   "source": [
    "df"
   ]
  },
  {
   "cell_type": "code",
   "execution_count": 7,
   "metadata": {},
   "outputs": [
    {
     "data": {
      "text/plain": [
       "(123, 4)"
      ]
     },
     "execution_count": 7,
     "metadata": {},
     "output_type": "execute_result"
    }
   ],
   "source": [
    "df.shape"
   ]
  },
  {
   "cell_type": "code",
   "execution_count": 8,
   "metadata": {},
   "outputs": [
    {
     "data": {
      "text/html": [
       "<div>\n",
       "<style scoped>\n",
       "    .dataframe tbody tr th:only-of-type {\n",
       "        vertical-align: middle;\n",
       "    }\n",
       "\n",
       "    .dataframe tbody tr th {\n",
       "        vertical-align: top;\n",
       "    }\n",
       "\n",
       "    .dataframe thead th {\n",
       "        text-align: right;\n",
       "    }\n",
       "</style>\n",
       "<table border=\"1\" class=\"dataframe\">\n",
       "  <thead>\n",
       "    <tr style=\"text-align: right;\">\n",
       "      <th></th>\n",
       "      <th>Date</th>\n",
       "      <th>secured_lending</th>\n",
       "      <th>credit_cards</th>\n",
       "      <th>other_unsecured_lending</th>\n",
       "    </tr>\n",
       "  </thead>\n",
       "  <tbody>\n",
       "    <tr>\n",
       "      <th>count</th>\n",
       "      <td>123</td>\n",
       "      <td>123.000000</td>\n",
       "      <td>123.000000</td>\n",
       "      <td>123.000000</td>\n",
       "    </tr>\n",
       "    <tr>\n",
       "      <th>mean</th>\n",
       "      <td>2008-06-30 04:52:40.975609856</td>\n",
       "      <td>0.000136</td>\n",
       "      <td>0.009207</td>\n",
       "      <td>0.006271</td>\n",
       "    </tr>\n",
       "    <tr>\n",
       "      <th>min</th>\n",
       "      <td>1993-03-31 00:00:00</td>\n",
       "      <td>-0.000003</td>\n",
       "      <td>0.001692</td>\n",
       "      <td>0.001734</td>\n",
       "    </tr>\n",
       "    <tr>\n",
       "      <th>25%</th>\n",
       "      <td>2000-11-15 00:00:00</td>\n",
       "      <td>0.000029</td>\n",
       "      <td>0.005608</td>\n",
       "      <td>0.004264</td>\n",
       "    </tr>\n",
       "    <tr>\n",
       "      <th>50%</th>\n",
       "      <td>2008-06-30 00:00:00</td>\n",
       "      <td>0.000079</td>\n",
       "      <td>0.007356</td>\n",
       "      <td>0.005691</td>\n",
       "    </tr>\n",
       "    <tr>\n",
       "      <th>75%</th>\n",
       "      <td>2016-02-14 12:00:00</td>\n",
       "      <td>0.000173</td>\n",
       "      <td>0.011243</td>\n",
       "      <td>0.007249</td>\n",
       "    </tr>\n",
       "    <tr>\n",
       "      <th>max</th>\n",
       "      <td>2023-09-30 00:00:00</td>\n",
       "      <td>0.000885</td>\n",
       "      <td>0.037943</td>\n",
       "      <td>0.020674</td>\n",
       "    </tr>\n",
       "    <tr>\n",
       "      <th>std</th>\n",
       "      <td>NaN</td>\n",
       "      <td>0.000164</td>\n",
       "      <td>0.005965</td>\n",
       "      <td>0.002981</td>\n",
       "    </tr>\n",
       "  </tbody>\n",
       "</table>\n",
       "</div>"
      ],
      "text/plain": [
       "                                Date  secured_lending  credit_cards  \\\n",
       "count                            123       123.000000    123.000000   \n",
       "mean   2008-06-30 04:52:40.975609856         0.000136      0.009207   \n",
       "min              1993-03-31 00:00:00        -0.000003      0.001692   \n",
       "25%              2000-11-15 00:00:00         0.000029      0.005608   \n",
       "50%              2008-06-30 00:00:00         0.000079      0.007356   \n",
       "75%              2016-02-14 12:00:00         0.000173      0.011243   \n",
       "max              2023-09-30 00:00:00         0.000885      0.037943   \n",
       "std                              NaN         0.000164      0.005965   \n",
       "\n",
       "       other_unsecured_lending  \n",
       "count               123.000000  \n",
       "mean                  0.006271  \n",
       "min                   0.001734  \n",
       "25%                   0.004264  \n",
       "50%                   0.005691  \n",
       "75%                   0.007249  \n",
       "max                   0.020674  \n",
       "std                   0.002981  "
      ]
     },
     "execution_count": 8,
     "metadata": {},
     "output_type": "execute_result"
    }
   ],
   "source": [
    "df.describe()"
   ]
  },
  {
   "cell_type": "code",
   "execution_count": 9,
   "metadata": {},
   "outputs": [
    {
     "data": {
      "text/html": [
       "<div>\n",
       "<style scoped>\n",
       "    .dataframe tbody tr th:only-of-type {\n",
       "        vertical-align: middle;\n",
       "    }\n",
       "\n",
       "    .dataframe tbody tr th {\n",
       "        vertical-align: top;\n",
       "    }\n",
       "\n",
       "    .dataframe thead th {\n",
       "        text-align: right;\n",
       "    }\n",
       "</style>\n",
       "<table border=\"1\" class=\"dataframe\">\n",
       "  <thead>\n",
       "    <tr style=\"text-align: right;\">\n",
       "      <th></th>\n",
       "      <th>Date</th>\n",
       "      <th>secured_lending</th>\n",
       "      <th>credit_cards</th>\n",
       "      <th>other_unsecured_lending</th>\n",
       "    </tr>\n",
       "  </thead>\n",
       "  <tbody>\n",
       "    <tr>\n",
       "      <th>0</th>\n",
       "      <td>2023-09-30</td>\n",
       "      <td>0.000006</td>\n",
       "      <td>0.005361</td>\n",
       "      <td>0.003271</td>\n",
       "    </tr>\n",
       "    <tr>\n",
       "      <th>1</th>\n",
       "      <td>2023-06-30</td>\n",
       "      <td>0.000009</td>\n",
       "      <td>0.005876</td>\n",
       "      <td>0.003140</td>\n",
       "    </tr>\n",
       "    <tr>\n",
       "      <th>2</th>\n",
       "      <td>2023-03-31</td>\n",
       "      <td>0.000009</td>\n",
       "      <td>0.005904</td>\n",
       "      <td>0.002960</td>\n",
       "    </tr>\n",
       "    <tr>\n",
       "      <th>3</th>\n",
       "      <td>2022-12-31</td>\n",
       "      <td>-0.000003</td>\n",
       "      <td>0.007824</td>\n",
       "      <td>0.007004</td>\n",
       "    </tr>\n",
       "    <tr>\n",
       "      <th>4</th>\n",
       "      <td>2022-09-30</td>\n",
       "      <td>0.000011</td>\n",
       "      <td>0.006139</td>\n",
       "      <td>0.003854</td>\n",
       "    </tr>\n",
       "  </tbody>\n",
       "</table>\n",
       "</div>"
      ],
      "text/plain": [
       "        Date  secured_lending  credit_cards  other_unsecured_lending\n",
       "0 2023-09-30         0.000006      0.005361                 0.003271\n",
       "1 2023-06-30         0.000009      0.005876                 0.003140\n",
       "2 2023-03-31         0.000009      0.005904                 0.002960\n",
       "3 2022-12-31        -0.000003      0.007824                 0.007004\n",
       "4 2022-09-30         0.000011      0.006139                 0.003854"
      ]
     },
     "execution_count": 9,
     "metadata": {},
     "output_type": "execute_result"
    }
   ],
   "source": [
    "df.head()"
   ]
  },
  {
   "cell_type": "code",
   "execution_count": 10,
   "metadata": {},
   "outputs": [
    {
     "data": {
      "text/plain": [
       "Date                       0\n",
       "secured_lending            0\n",
       "credit_cards               0\n",
       "other_unsecured_lending    0\n",
       "dtype: int64"
      ]
     },
     "execution_count": 10,
     "metadata": {},
     "output_type": "execute_result"
    }
   ],
   "source": [
    "df.isnull().sum()"
   ]
  },
  {
   "cell_type": "code",
   "execution_count": 11,
   "metadata": {},
   "outputs": [],
   "source": [
    "df = df.sort_values('Date')\n",
    "df.set_index('Date', inplace=True)"
   ]
  },
  {
   "cell_type": "code",
   "execution_count": 12,
   "metadata": {},
   "outputs": [
    {
     "data": {
      "text/html": [
       "<div>\n",
       "<style scoped>\n",
       "    .dataframe tbody tr th:only-of-type {\n",
       "        vertical-align: middle;\n",
       "    }\n",
       "\n",
       "    .dataframe tbody tr th {\n",
       "        vertical-align: top;\n",
       "    }\n",
       "\n",
       "    .dataframe thead th {\n",
       "        text-align: right;\n",
       "    }\n",
       "</style>\n",
       "<table border=\"1\" class=\"dataframe\">\n",
       "  <thead>\n",
       "    <tr style=\"text-align: right;\">\n",
       "      <th></th>\n",
       "      <th>secured_lending</th>\n",
       "      <th>credit_cards</th>\n",
       "      <th>other_unsecured_lending</th>\n",
       "    </tr>\n",
       "    <tr>\n",
       "      <th>Date</th>\n",
       "      <th></th>\n",
       "      <th></th>\n",
       "      <th></th>\n",
       "    </tr>\n",
       "  </thead>\n",
       "  <tbody>\n",
       "    <tr>\n",
       "      <th>1993-03-31</th>\n",
       "      <td>0.000465</td>\n",
       "      <td>0.001692</td>\n",
       "      <td>0.008323</td>\n",
       "    </tr>\n",
       "    <tr>\n",
       "      <th>1993-06-30</th>\n",
       "      <td>0.000721</td>\n",
       "      <td>0.016719</td>\n",
       "      <td>0.005591</td>\n",
       "    </tr>\n",
       "    <tr>\n",
       "      <th>1993-09-30</th>\n",
       "      <td>0.000806</td>\n",
       "      <td>0.006223</td>\n",
       "      <td>0.005989</td>\n",
       "    </tr>\n",
       "    <tr>\n",
       "      <th>1993-12-31</th>\n",
       "      <td>0.000694</td>\n",
       "      <td>0.004300</td>\n",
       "      <td>0.009712</td>\n",
       "    </tr>\n",
       "    <tr>\n",
       "      <th>1994-03-31</th>\n",
       "      <td>0.000885</td>\n",
       "      <td>0.004640</td>\n",
       "      <td>0.007221</td>\n",
       "    </tr>\n",
       "  </tbody>\n",
       "</table>\n",
       "</div>"
      ],
      "text/plain": [
       "            secured_lending  credit_cards  other_unsecured_lending\n",
       "Date                                                              \n",
       "1993-03-31         0.000465      0.001692                 0.008323\n",
       "1993-06-30         0.000721      0.016719                 0.005591\n",
       "1993-09-30         0.000806      0.006223                 0.005989\n",
       "1993-12-31         0.000694      0.004300                 0.009712\n",
       "1994-03-31         0.000885      0.004640                 0.007221"
      ]
     },
     "execution_count": 12,
     "metadata": {},
     "output_type": "execute_result"
    }
   ],
   "source": [
    "df.head()"
   ]
  },
  {
   "cell_type": "code",
   "execution_count": 22,
   "metadata": {},
   "outputs": [
    {
     "data": {
      "image/png": "[encoded data removed]",
      "text/plain": [
       "<Figure size 800x400 with 2 Axes>"
      ]
     },
     "metadata": {},
     "output_type": "display_data"
    }
   ],
   "source": [
    "fig, ax = plt.subplots(figsize=(8,4), ncols=1, nrows=1)\n",
    "ax.plot(df.index, df['credit_cards'], color=c3, label='Credit cards(LHS)')\n",
    "ax.plot(df.index, df['other_unsecured_lending'], color =c5, label = 'Other Unsecured(LHS)')\n",
    "\n",
    "ax2 = ax.twinx() # x 축 공유\n",
    "ax2.plot(df.index, df['secured_lending'], color=c1, label='Secured Lending (RHS)')\n",
    "\n",
    "ax.set(title='Quarterly Write-off Rates', xlabel='Date', ylabel='Write-Off Rate')\n",
    "fig.legend(loc='center left', bbox_to_anchor=(1, 0.5))\n",
    "\n",
    "ax.yaxis.set_major_formatter(FuncFormatter(lambda y, _: '{:.1%}'.format(y)))\n",
    "ax2.yaxis.set_major_formatter(FuncFormatter(lambda y, _: '{:.2%}'.format(y)))\n",
    "plt.show()"
   ]
  },
  {
   "cell_type": "code",
   "execution_count": 23,
   "metadata": {},
   "outputs": [
    {
     "data": {
      "text/plain": [
       "Index(['secured_lending', 'credit_cards', 'other_unsecured_lending'], dtype='object')"
      ]
     },
     "execution_count": 23,
     "metadata": {},
     "output_type": "execute_result"
    }
   ],
   "source": [
    "df.columns"
   ]
  },
  {
   "cell_type": "code",
   "execution_count": null,
   "metadata": {},
   "outputs": [],
   "source": []
  }
 ],
 "metadata": {
  "kernelspec": {
   "display_name": "ai",
   "language": "python",
   "name": "python3"
  },
  "language_info": {
   "codemirror_mode": {
    "name": "ipython",
    "version": 3
   },
   "file_extension": ".py",
   "mimetype": "text/x-python",
   "name": "python",
   "nbconvert_exporter": "python",
   "pygments_lexer": "ipython3",
   "version": "3.12.2"
  }
 },
 "nbformat": 4,
 "nbformat_minor": 2
}
